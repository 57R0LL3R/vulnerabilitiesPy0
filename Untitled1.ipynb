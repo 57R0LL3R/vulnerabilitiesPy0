{
 "cells": [
  {
   "cell_type": "code",
   "execution_count": 20,
   "id": "e65ee167-8580-4b1f-b3c4-0fea15f19cfa",
   "metadata": {},
   "outputs": [],
   "source": [
    "#librerias a importar\n",
    "#requests es un libreria que nos permite hacer peticiones a apis esta es fundamental para el proyecto\n",
    "#json es una libreria para modificar el aspecto visual de un json\n",
    "#datetime es una libreria que contiene valores de tiempo su uso va principalmente relacionado con el acceso a datos\n",
    "#azurecosmos son librerias para la conecion a la base de datos de cosmos en azure estas nos permiten acceder a la api de la base de datos para hacer consultas\n",
    "#os es una libreria que nos permite interactuar con el sistema operativo en donde se ejecuta el programa\n",
    "import json, requests\n",
    "from datetime import datetime\n",
    "import azure.cosmos.documents as documents\n",
    "import azure.cosmos.cosmos_client as cosmos_client\n",
    "import azure.cosmos.exceptions as exceptions\n",
    "from azure.cosmos.partition_key import PartitionKey\n",
    "import os"
   ]
  },
  {
   "cell_type": "code",
   "execution_count": 21,
   "id": "91eee6f8-8cab-42f2-ae7c-d05c01b624ea",
   "metadata": {},
   "outputs": [],
   "source": [
    "#settings es un diccionario de datos que contiene todos los datos para acceder a la base de datos de cosmos en azure\n",
    "settings = {\n",
    "    'host': os.environ.get('ACCOUNT_HOST', 'https://comosdavidc.documents.azure.com:443/'),\n",
    "\n",
    "    #'master_key': os.environ.get('ACCOUNT_KEY', 'HVPRgzkOw8QXjpQtgQ3SNI92DvyJyOgfQfL0K9FXtX1a6KF4ezRFAJ4NiF5xJP6YGTmjW6P0LVDKACDblqdSxA=='),\n",
    "    'master_key': os.environ.get('ACCOUNT_KEY', 'wZVdL0vlwCNxIhrxzLClhWChJcvpANGTJ3NZz8C7oLBgDjk9BeFnZlI7jFj6T4Hml9dFOMh2xgJqACDbqbAp1A=='),\n",
    "    'database_id': os.environ.get('COSMOS_DATABASE', 'vulnerabilities0'),\n",
    "    'container_id': os.environ.get('COSMOS_CONTAINER', 'vulnerabilities'),\n",
    "}\n",
    "#aqui se asignan los datos almacenados en settings dentro de variables que van a ser usadas para acceder a la base de datos\n",
    "HOST = settings['host']\n",
    "MASTER_KEY = settings['master_key']\n",
    "DATABASE_ID = settings['database_id']\n",
    "CONTAINER_ID = settings['container_id']\n",
    "#addInContainer es un metodo utilizado para almacenar la informacion en cosmos crea items en los contenedores y comprueba si existen los recursos\n",
    "def addInContainer(id):\n",
    "    \n",
    "    client = cosmos_client.CosmosClient(HOST, {'masterKey': MASTER_KEY}, user_agent=\"CosmosDBPythonQuickstart\", user_agent_overwrite=True)\n",
    "    try:\n",
    "        # setup database for this sample\n",
    "        try:\n",
    "            db = client.create_database(id=DATABASE_ID)\n",
    "            print('Database with id \\'{0}\\' created'.format(DATABASE_ID))\n",
    "\n",
    "        except exceptions.CosmosResourceExistsError:\n",
    "            db = client.get_database_client(DATABASE_ID)\n",
    "            print('Database with id \\'{0}\\' was found'.format(DATABASE_ID))\n",
    "\n",
    "        # setup container for this sample\n",
    "\n",
    "        try:\n",
    "            container1 = db.create_container(id=id, partition_key=PartitionKey(path='/partitionKey'))\n",
    "        except exceptions.CosmosResourceExistsError:\n",
    "            container1 = db.get_container_client(id)\n",
    "\n",
    "        dataS=getApiShodan(id)\n",
    "        container1.create_item(body=dataS)\n",
    "        print(\"Creation item sucessfull\")\n",
    "    except exceptions.CosmosHttpResponseError as e:\n",
    "        print('\\nrun_sample has caught an error. {0}'.format(e.message))"
   ]
  },
  {
   "cell_type": "code",
   "execution_count": 19,
   "id": "1ba22b5a-100d-4869-920a-cea2614e41d8",
   "metadata": {},
   "outputs": [],
   "source": [
    "#apiCVE es una funcion que consume una api que contiene la informacion relevante del CVE que necesitamos para complementar nuestro programa\n",
    "#cve es el parametro requerido para hacer la consulta este determinara que sistemas afeta el cve y los datos relevantes del mismo\n",
    "def apiCVE(cve):\n",
    "    return requests.get(f\"https://cveawg.mitre.org/api/cve/{str(cve)}\").json()\n",
    "#apiShodan es una funcion la cual nos envia datos acerca de la informcaion de los puertos y las vulnerabilidades que shodan tenga almacenados\n",
    "#ip es el argumento que esta funcion necesita para proceder a realizar la peticion, internamente ya se tiene guardada la key de la api\n",
    "#los datos retornados son un json el cual contiene informacion relevante acerca de la ip como vulnerabilidades entre otras cosas\n",
    "def apiShodan(ip):\n",
    "    key=\"a1RpAyRaTw7r2WGg6FpxVATNhwnrjynp\"\n",
    "    return requests.get(\"https://api.shodan.io/shodan/host/\"+ip+\"?key=\"+key).json()"
   ]
  },
  {
   "cell_type": "code",
   "execution_count": 18,
   "id": "45dc0f74-2b41-4e2a-b37e-a2a9099a6f67",
   "metadata": {},
   "outputs": [],
   "source": [
    "#jsonDataVulns es un metodo que usa el metodo anterior de apiCVE para obtener informacion acerca de el cve\n",
    "#este metodo tambien se encarga de almacenar los datos de forma ordenada en un diccionario de datos\n",
    "#dentro de sus argumentos pide el cve que se va a evaluar y el score de vulnerabilidad que este cve representa\n",
    "def jsonDataVulns(cve,score):\n",
    "    vulnerability={}\n",
    "    vulnerability[str(cve)]={}\n",
    "    vulnerability[cve]['systems']=[]\n",
    "    dataCVE=apiCVE(cve)\n",
    "    for i in dataCVE[\"containers\"][\"cna\"][\"affected\"]:\n",
    "        data={}\n",
    "        data['versions']=[]\n",
    "        for j in i:\n",
    "            if(j!='versions'):\n",
    "                data[j]=i[j]\n",
    "            else:\n",
    "                for k in i[j]:\n",
    "                    data[j].append(k['version'])\n",
    "        vulnerability[cve]['systems'].append(data)\n",
    "        \n",
    "    vulnerability[cve]['urls']=[]\n",
    "    iterator=0\n",
    "    for urls in dataCVE[\"containers\"][\"cna\"][\"references\"]:\n",
    "        if(iterator==4):\n",
    "            break\n",
    "        else:\n",
    "            iterator+=1\n",
    "        vulnerability[cve]['urls'].append(urls['url'])\n",
    "    vulnerability[cve]['vulnerabilityScore']=score\n",
    "    \n",
    "\n",
    "    return vulnerability"
   ]
  },
  {
   "cell_type": "code",
   "execution_count": 22,
   "id": "f32e098a-7d27-4ba1-9f26-67fa2cbfb1d4",
   "metadata": {},
   "outputs": [],
   "source": [
    "#getApiShodan es un metodo que nos entrega el item final que queremos crear este metodo llama al metodo jsonDataVulns para obtener la informacion\n",
    "#ip es el argumento donde recibimos la ip que se requiere utilizar en todo el proceso de evaluacion de esta\n",
    "#internamente se revisa las vulnerabilidades que tiene se halla el score de esta y se envia para profundizar en el analisis de esta informacion\n",
    "def getApiShodan(ip):\n",
    "    datashodan=apiShodan(ip)\n",
    "    list = []\n",
    "    vulnsExists=False\n",
    "    for question in datashodan:\n",
    "        if(question=='vulns'):\n",
    "            vulnsExists=True\n",
    "\n",
    "    if(vulnsExists):\n",
    "        for cve in datashodan['vulns']:\n",
    "            truste=False\n",
    "            for i in datashodan['data']:\n",
    "                for j in i:\n",
    "                    if(j=='vulns'):\n",
    "                        for k in i[j]:\n",
    "                            if(cve==k):\n",
    "                                score=i[j][k]['cvss']\n",
    "                                truste=True\n",
    "                                break\n",
    "                    if(truste):\n",
    "                        break\n",
    "            list.append(jsonDataVulns(cve,score))\n",
    "    data={}\n",
    "    data['id']=ip+\" \"+datetime.now().strftime('%Y-%m-%d %H:%M:%S')\n",
    "    data['vulnerabilities']=list\n",
    "    return data"
   ]
  },
  {
   "cell_type": "code",
   "execution_count": 15,
   "id": "8830f235-902e-4599-8397-25628e3c8a84",
   "metadata": {},
   "outputs": [
    {
     "name": "stdout",
     "output_type": "stream",
     "text": [
      "219.75.232.46\n",
      "80.120.238.18\n",
      "14.215.125.26\n",
      "119.3.66.195\n",
      "196.21.83.201\n",
      "218.189.143.54\n",
      "79.159.245.145\n",
      "185.198.75.90\n",
      "80.188.166.75\n",
      "134.175.237.77\n",
      "147.124.212.200\n",
      "118.174.47.121\n",
      "184.151.55.178\n",
      "213.7.220.103\n",
      "152.231.74.206\n",
      "107.85.109.35\n",
      "219.75.232.47\n",
      "172.254.110.44\n",
      "119.194.62.121\n",
      "74.208.229.229\n"
     ]
    }
   ],
   "source": [
    "#list es la lista de ips que contienen la vulnerabilidad bluekeep que el profesor nos entrego\n",
    "list=[\n",
    "    \"219.75.232.46\",\n",
    "\"80.120.238.18\",\n",
    "\"14.215.125.26\",\n",
    "\"119.3.66.195\",\n",
    "\"196.21.83.201\",\n",
    "\"218.189.143.54\",\n",
    "\"79.159.245.145\",\n",
    "\"185.198.75.90\",\n",
    "\"80.188.166.75\",\n",
    "\"134.175.237.77\",\n",
    "\"147.124.212.200\",\n",
    "\"118.174.47.121\",\n",
    "\"184.151.55.178\",\n",
    "\"213.7.220.103\",\n",
    "\"152.231.74.206\",\n",
    "\"107.85.109.35\",\n",
    "\"219.75.232.47\",\n",
    "\"172.254.110.44\",\n",
    "\"119.194.62.121\",\n",
    "\"74.208.229.229\"]\n",
    "#este for es el ciclo que recorre todo el metodo en busca de analizar las diferentes ips enviadas\n",
    "for i in list:\n",
    "    print(getApiShodan(i))\n",
    "    "
   ]
  },
  {
   "cell_type": "code",
   "execution_count": 16,
   "id": "78543f15-756a-4969-bd02-fd34c5fe5b13",
   "metadata": {},
   "outputs": [
    {
     "name": "stdout",
     "output_type": "stream",
     "text": [
      "218.189.143.54\n"
     ]
    },
    {
     "data": {
      "text/plain": [
       "{'id': '218.189.143.54 2024-03-18 23:18:26', 'vulnerabilities': []}"
      ]
     },
     "execution_count": 16,
     "metadata": {},
     "output_type": "execute_result"
    }
   ],
   "source": [
    "\n",
    "getApiShodan('218.189.143.54')"
   ]
  },
  {
   "cell_type": "code",
   "execution_count": null,
   "id": "79bc59bf-bcf8-4544-8095-4f24be86a331",
   "metadata": {},
   "outputs": [],
   "source": [
    "\n",
    "80.188.166.75\n",
    "134.175.237.77"
   ]
  }
 ],
 "metadata": {
  "kernelspec": {
   "display_name": "Python 3 (ipykernel)",
   "language": "python",
   "name": "python3"
  },
  "language_info": {
   "codemirror_mode": {
    "name": "ipython",
    "version": 3
   },
   "file_extension": ".py",
   "mimetype": "text/x-python",
   "name": "python",
   "nbconvert_exporter": "python",
   "pygments_lexer": "ipython3",
   "version": "3.12.2"
  }
 },
 "nbformat": 4,
 "nbformat_minor": 5
}
